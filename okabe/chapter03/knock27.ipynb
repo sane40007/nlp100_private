{
 "cells": [
  {
   "cell_type": "code",
   "execution_count": null,
   "metadata": {},
   "outputs": [],
   "source": [
    "import json\n",
    "import re\n",
    "\n",
    "file_path = 'jawiki-country.json'\n",
    "info_dict = {}\n",
    "\n",
    "with open(file_path, 'rt', encoding='utf-8') as file:\n",
    "    for line in file:\n",
    "        article = json.loads(line)\n",
    "        if article['title'] == 'イギリス':\n",
    "            text = article['text']\n",
    "            splitted = text.split(\"\\n\")\n",
    "            for line in splitted:\n",
    "                pattern = re.compile('\\|(.+?)\\s=\\s*(.+)')\n",
    "                info_line = re.match(pattern,line)\n",
    "                if info_line:\n",
    "                # print(info_line.group(1))\n",
    "                    info_dict[info_line.group(1)] = info_line.group(2)\n",
    "            #print(info_dict)\n",
    "            cleaned_info_dict = {}\n",
    "            for field in info_dict:\n",
    "                clean_value = re.sub(r\"'{2,5}\", \"\", info_dict[field])\n",
    "                clean_text = re.sub(r'\\[\\[(?:[^|]*?\\|)??([^|]*?)\\]\\]', r'\\1', clean_value)\n",
    "                cleaned_info_dict[field.strip()] = clean_text.strip()\n",
    "            break\n",
    "\n",
    "for info in info_dict:\n",
    "    print(info,info_dict[info])"
   ]
  }
 ],
 "metadata": {
  "language_info": {
   "name": "python"
  }
 },
 "nbformat": 4,
 "nbformat_minor": 2
}
