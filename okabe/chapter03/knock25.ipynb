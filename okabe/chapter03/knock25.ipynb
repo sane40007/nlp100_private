{
 "cells": [
  {
   "cell_type": "code",
   "execution_count": null,
   "metadata": {},
   "outputs": [],
   "source": [
    "import json\n",
    "import re\n",
    "\n",
    "file_path = 'jawiki-country.json'\n",
    "info_dict = {}\n",
    "\n",
    "with open(file_path, 'r') as file:\n",
    "    for line in file:\n",
    "        article = json.loads(line)\n",
    "        if article['title'] == 'イギリス':\n",
    "            text = article['text']\n",
    "            for line in text.split(\"\\n\"):\n",
    "                pattern = re.compile('\\|(.+?)\\s=\\s*(.+)')\n",
    "                info_line = re.match(pattern,line)\n",
    "                if info_line:\n",
    "                # print(info_line.group(1))\n",
    "                    info_dict[info_line.group(1)] = info_line.group(2)\n",
    "            break\n",
    "\n",
    "for info in info_dict:\n",
    "    print(info, info_dict[info])"
   ]
  }
 ],
 "metadata": {
  "language_info": {
   "name": "python"
  }
 },
 "nbformat": 4,
 "nbformat_minor": 2
}
