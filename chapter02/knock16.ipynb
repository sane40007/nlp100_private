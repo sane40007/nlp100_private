{
 "cells": [
  {
   "cell_type": "code",
   "execution_count": 7,
   "metadata": {},
   "outputs": [],
   "source": [
    "filename = \"popular-names-modified.txt\"\n",
    "N = int(input())\n",
    "\n",
    "with open(filename, 'r') as file:\n",
    "        lines = file.readlines()\n",
    "        lines_per_file = [(len(lines)-(len(lines)*i//N))//(N-i) for i in range(N)] \n",
    " \n",
    "        for i in range(N):\n",
    "            with open(f'popular-names-modified-section{i+1}.txt', 'w') as f:\n",
    "                if i == 0:\n",
    "                     f.writelines(lines[0:lines_per_file[i]])\n",
    "                else:\n",
    "                    f.writelines(lines[lines_per_file[i-1]:lines_per_file[i]])"
   ]
  },
  {
   "cell_type": "code",
   "execution_count": 16,
   "metadata": {},
   "outputs": [
    {
     "data": {
      "text/plain": [
       "556.0"
      ]
     },
     "execution_count": 16,
     "metadata": {},
     "output_type": "execute_result"
    }
   ],
   "source": [
    "2780 / 5 "
   ]
  },
  {
   "cell_type": "code",
   "execution_count": 21,
   "metadata": {},
   "outputs": [],
   "source": [
    "!split -l 556 -d -a 3 popular-names-modified.txt popular-names-modified-split-"
   ]
  }
 ],
 "metadata": {
  "kernelspec": {
   "display_name": "kaneko_env",
   "language": "python",
   "name": "python3"
  },
  "language_info": {
   "codemirror_mode": {
    "name": "ipython",
    "version": 3
   },
   "file_extension": ".py",
   "mimetype": "text/x-python",
   "name": "python",
   "nbconvert_exporter": "python",
   "pygments_lexer": "ipython3",
   "version": "3.11.5"
  }
 },
 "nbformat": 4,
 "nbformat_minor": 2
}
