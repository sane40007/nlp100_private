{
 "cells": [
  {
   "cell_type": "code",
   "execution_count": 9,
   "metadata": {},
   "outputs": [
    {
     "name": "stdout",
     "output_type": "stream",
     "text": [
      "desserts\n"
     ]
    }
   ],
   "source": [
    "str_list = 'stressed'\n",
    "reversed = ''\n",
    "for i in range(len(str_list)):\n",
    "    reversed += str(str_list[-(i+1)])\n",
    "print(reversed)"
   ]
  },
  {
   "cell_type": "code",
   "execution_count": 1,
   "metadata": {},
   "outputs": [
    {
     "name": "stdout",
     "output_type": "stream",
     "text": [
      "パトカー\n"
     ]
    }
   ],
   "source": [
    "str_list = 'パタトクカシーー'\n",
    "return_list = ''\n",
    "for i in range(len(str_list)):\n",
    "    if (i+1) % 2 != 0:\n",
    "        return_list += str_list[i]\n",
    "print(return_list)"
   ]
  },
  {
   "cell_type": "code",
   "execution_count": 4,
   "metadata": {},
   "outputs": [
    {
     "name": "stdout",
     "output_type": "stream",
     "text": [
      "Now I need a drink, alchoholic of course, after the heavy lectures involving quantum mechanics\n",
      "[3, 1, 4, 1, 5, 10, 2, 6, 5, 3, 5, 8, 9, 7]\n"
     ]
    }
   ],
   "source": [
    "sent_list = 'Now I need a drink, alchoholic of course, after the heavy lectures involving quantum mechanics'\n",
    "letter_count = 0\n",
    "letter_count_list = []\n",
    "for i in range(len(sent_list)):\n",
    "    if sent_list[i] == ' ':\n",
    "        letter_count_list.append(letter_count)\n",
    "        letter_count = 0\n",
    "        \n",
    "    elif sent_list[i] != ',':\n",
    "        letter_count += 1\n",
    "print(sent_list)\n",
    "print(letter_count_list)"
   ]
  },
  {
   "cell_type": "code",
   "execution_count": 11,
   "metadata": {},
   "outputs": [
    {
     "name": "stdout",
     "output_type": "stream",
     "text": [
      " \n"
     ]
    }
   ],
   "source": [
    "print(sent_list[3])"
   ]
  },
  {
   "cell_type": "code",
   "execution_count": 9,
   "metadata": {},
   "outputs": [
    {
     "name": "stdout",
     "output_type": "stream",
     "text": [
      "パタトクカシーー\n"
     ]
    }
   ],
   "source": [
    "str_1 = 'パトカー'\n",
    "str_2 = 'タクシー'\n",
    "\n",
    "return_list = ''\n",
    "\n",
    "for i in range(max(len(str_1),len(str_2))):\n",
    "    if i+1 <= len(str_1):\n",
    "        return_list += str_1[i]\n",
    "    if i+1 <= len(str_2):\n",
    "        return_list += str_2[i]\n",
    "\n",
    "print(return_list)"
   ]
  },
  {
   "cell_type": "code",
   "execution_count": 29,
   "metadata": {},
   "outputs": [
    {
     "name": "stdout",
     "output_type": "stream",
     "text": [
      "{'H': 1, 'He': 2, 'Li': 3, 'Be': 4, 'B': 5, 'C': 6, 'N': 7, 'O': 8, 'F': 9, 'Ne': 10, 'Na': 11, 'Mi': 12, 'Al': 13, 'Si': 14, 'P': 15, 'S': 16, 'Cl': 17, 'Ar': 18, 'K': 19, 'Ca': 20}\n"
     ]
    }
   ],
   "source": [
    "elemental_symbols = ' Hi He Lied Because Boron Could Not Oxidize Fluorine. New Nations Might Also Sign Peace Security Clause. Arthur King Can.'\n",
    "num_list = [1, 5, 6, 7, 8, 9, 15, 16, 19]\n",
    "\n",
    "elm_dict = {}\n",
    "word_count = 0\n",
    "i = 0\n",
    "\n",
    "while i < len(elemental_symbols):\n",
    "    if elemental_symbols[i] == ' ':\n",
    "        word_count += 1\n",
    "    if word_count in num_list and elemental_symbols[i-1]== ' ':\n",
    "        key = elemental_symbols[i] \n",
    "        elm_dict[key] = word_count\n",
    "        i += 1\n",
    "    elif elemental_symbols[i-1]== ' ':\n",
    "        key = elemental_symbols[i] + elemental_symbols[i+1]\n",
    "        elm_dict[key] = word_count\n",
    "    i += 1\n",
    "\n",
    "print(elm_dict)\n"
   ]
  },
  {
   "cell_type": "code",
   "execution_count": 19,
   "metadata": {},
   "outputs": [
    {
     "name": "stdout",
     "output_type": "stream",
     "text": [
      ".\n"
     ]
    }
   ],
   "source": [
    "print(elemental_symbols[-1])"
   ]
  },
  {
   "cell_type": "code",
   "execution_count": 33,
   "metadata": {},
   "outputs": [
    {
     "name": "stdout",
     "output_type": "stream",
     "text": [
      "[['I', 'am'], ['am', 'an'], ['an', 'NLPer']] ['I ', ' a', 'am', 'm ', ' a', 'an', 'n ', ' N', 'NL', 'LP', 'Pe', 'er']\n"
     ]
    }
   ],
   "source": [
    "def n_gram_devider(sequence, n):\n",
    "    words = sequence.split()\n",
    "    word_n_gram = []\n",
    "    letter_n_gram = []\n",
    "    for i in range(len(words)-n+1):\n",
    "        word_n_gram.append(words[i:i+n])\n",
    "    for i in range(len(sequence)-n+1):\n",
    "        letter_n_gram.append(sequence[i:i+n])\n",
    "\n",
    "    return word_n_gram, letter_n_gram\n",
    "\n",
    "seq = 'I am an NLPer'\n",
    "word_ngr, let_ngr = n_gram_devider(seq,2)\n",
    "print(word_ngr,let_ngr)"
   ]
  },
  {
   "cell_type": "code",
   "execution_count": 44,
   "metadata": {},
   "outputs": [
    {
     "name": "stdout",
     "output_type": "stream",
     "text": [
      "union: ['ad', 'gr', 'se', 'pa', 'is', 'ra', 'ph', 'ap', 'di', 'ar', 'ag'] intsec: ['ra', 'pa', 'ap', 'ar'] dif: ['ad', 'gr', 'se', 'is', 'ph', 'di', 'ag']\n",
      "se in X\n",
      "se not in Y\n"
     ]
    }
   ],
   "source": [
    "def n_gram_devider(sequence, n):\n",
    "    letter_n_gram = []\n",
    "    for i in range(len(sequence)-n+1):\n",
    "        letter_n_gram.append(sequence[i:i+n])\n",
    "\n",
    "    return letter_n_gram\n",
    "\n",
    "seq_1 = 'paraparaparadise'\n",
    "seq_2 = 'paragraph'\n",
    "X = n_gram_devider(seq_1,2)\n",
    "Y = n_gram_devider(seq_2,2)\n",
    "\n",
    "union = []\n",
    "intsec = []\n",
    "dif = []\n",
    "\n",
    "temp_union = X + Y\n",
    "union = list(set(temp_union))\n",
    "\n",
    "intsec_temp = []\n",
    "for elm in X:\n",
    "    if elm in Y:\n",
    "        intsec_temp.append(elm)\n",
    "intsec = list(set(intsec_temp))\n",
    "\n",
    "for elm in union:\n",
    "    if elm not in intsec:\n",
    "        dif.append(elm)\n",
    "\n",
    "print(\"union:\", union, \"intsec:\", intsec, \"dif:\", dif)\n",
    "\n",
    "if 'se' in X:\n",
    "    print('se in X')\n",
    "else :\n",
    "    print('se not in X')\n",
    "if 'se' in Y:\n",
    "    print('se in Y')\n",
    "else:\n",
    "    print('se not in Y')\n",
    "\n"
   ]
  },
  {
   "cell_type": "code",
   "execution_count": 37,
   "metadata": {},
   "outputs": [
    {
     "name": "stdout",
     "output_type": "stream",
     "text": [
      "['ad', 'gr', 'se', 'pa', 'is', 'ra', 'ph', 'ap', 'di', 'ar', 'ag']\n"
     ]
    }
   ],
   "source": [
    "print(union)"
   ]
  },
  {
   "cell_type": "code",
   "execution_count": 45,
   "metadata": {},
   "outputs": [
    {
     "name": "stdout",
     "output_type": "stream",
     "text": [
      "kziztizks\n"
     ]
    }
   ],
   "source": [
    "def cipher(code):\n",
    "    modified = ''\n",
    "    for letter in code:\n",
    "        if 'a' <= letter <= 'z':\n",
    "            modified += chr(219 - ord(letter))\n",
    "        else:\n",
    "            modified += letter\n",
    "\n",
    "    return modified\n",
    "\n",
    "print(cipher('paragraph'))"
   ]
  },
  {
   "cell_type": "code",
   "execution_count": 52,
   "metadata": {},
   "outputs": [
    {
     "ename": "TypeError",
     "evalue": "'NoneType' object is not iterable",
     "output_type": "error",
     "traceback": [
      "\u001b[0;31m---------------------------------------------------------------------------\u001b[0m",
      "\u001b[0;31mTypeError\u001b[0m                                 Traceback (most recent call last)",
      "Cell \u001b[0;32mIn[52], line 6\u001b[0m\n\u001b[1;32m      3\u001b[0m splited \u001b[38;5;241m=\u001b[39m temp\u001b[38;5;241m.\u001b[39msplit()\n\u001b[1;32m      5\u001b[0m \u001b[38;5;28;01mfor\u001b[39;00m elm \u001b[38;5;129;01min\u001b[39;00m splited:\n\u001b[0;32m----> 6\u001b[0m     modified \u001b[38;5;241m=\u001b[39m \u001b[38;5;28mlist\u001b[39m(elm[\u001b[38;5;241m0\u001b[39m] \u001b[38;5;241m+\u001b[39m \u001b[38;5;28;43mlist\u001b[39;49m\u001b[43m(\u001b[49m\u001b[43mrandom\u001b[49m\u001b[38;5;241;43m.\u001b[39;49m\u001b[43mshuffle\u001b[49m\u001b[43m(\u001b[49m\u001b[43melm\u001b[49m\u001b[43m[\u001b[49m\u001b[38;5;241;43m1\u001b[39;49m\u001b[43m:\u001b[49m\u001b[38;5;241;43m-\u001b[39;49m\u001b[38;5;241;43m1\u001b[39;49m\u001b[43m]\u001b[49m\u001b[43m)\u001b[49m\u001b[43m)\u001b[49m \u001b[38;5;241m+\u001b[39m elm[[\u001b[38;5;241m-\u001b[39m\u001b[38;5;241m1\u001b[39m]])\n\u001b[1;32m      7\u001b[0m     \u001b[38;5;28mprint\u001b[39m(modified)\n",
      "\u001b[0;31mTypeError\u001b[0m: 'NoneType' object is not iterable"
     ]
    }
   ],
   "source": [
    "import random\n",
    "temp = 'Now I need a drink, alchoholic of course, after the heavy lectures involving quantum mechanics'\n",
    "splited = temp.split()\n",
    "\n",
    "for elm in splited:\n",
    "    modified = list(elm[0] + list(random.shuffle(elm[1:-1])) + elm[[-1]])\n",
    "    print(modified)"
   ]
  },
  {
   "cell_type": "code",
   "execution_count": 2,
   "metadata": {},
   "outputs": [
    {
     "name": "stdout",
     "output_type": "stream",
     "text": [
      "7\n"
     ]
    }
   ],
   "source": [
    "db_list = [[2,1],[3,1],[7,9]]\n",
    "print(db_list[2][0])"
   ]
  },
  {
   "cell_type": "code",
   "execution_count": 5,
   "metadata": {},
   "outputs": [],
   "source": [
    "db_list = [[2,1,6],[3,0,5],[4,7,9]]\n",
    "called = [3,6,8]\n",
    "\n",
    "for elm in called:\n",
    "    for i in range(len(db_list)):    \n",
    "        if elm in db_list[i]: \n",
    "            db_list[i][db_list[i].index(elm)] = 0"
   ]
  },
  {
   "cell_type": "code",
   "execution_count": 6,
   "metadata": {},
   "outputs": [
    {
     "name": "stdout",
     "output_type": "stream",
     "text": [
      "[[2, 1, 0], [0, 0, 5], [4, 7, 9]]\n"
     ]
    }
   ],
   "source": [
    "print(db_list)"
   ]
  },
  {
   "cell_type": "code",
   "execution_count": null,
   "metadata": {},
   "outputs": [],
   "source": []
  }
 ],
 "metadata": {
  "kernelspec": {
   "display_name": "kaneko_env",
   "language": "python",
   "name": "python3"
  },
  "language_info": {
   "codemirror_mode": {
    "name": "ipython",
    "version": 3
   },
   "file_extension": ".py",
   "mimetype": "text/x-python",
   "name": "python",
   "nbconvert_exporter": "python",
   "pygments_lexer": "ipython3",
   "version": "3.11.5"
  }
 },
 "nbformat": 4,
 "nbformat_minor": 2
}
