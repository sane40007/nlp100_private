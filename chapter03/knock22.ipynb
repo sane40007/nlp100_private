{
 "cells": [
  {
   "cell_type": "code",
   "execution_count": 4,
   "metadata": {},
   "outputs": [
    {
     "name": "stdout",
     "output_type": "stream",
     "text": [
      "イギリス\n",
      "イギリス連邦加盟国\n",
      "英連邦王国\n",
      "G8加盟国\n",
      "欧州連合加盟国\n",
      "海洋国家\n",
      "現存する君主国\n",
      "島国\n",
      "1801年に成立した国家・領域\n"
     ]
    }
   ],
   "source": [
    "import json\n",
    "import re  \n",
    "\n",
    "file_path = 'jawiki-country.json'\n",
    "\n",
    "with open(file_path, 'r') as file:\n",
    "    for line in file:\n",
    "        article = json.loads(line)\n",
    "        if article['title'] == 'イギリス':\n",
    "            text = article['text']\n",
    "            category_names = re.findall(r'\\[\\[Category:(.*?)(?:\\|.*)?\\]\\]', text)\n",
    "            break\n",
    "\n",
    "for name in category_names:\n",
    "    print(name)"
   ]
  },
  {
   "cell_type": "markdown",
   "metadata": {},
   "source": [
    "カテゴリ名がカテゴリリンクの [[Category:カテゴリ名]] または [[Category:カテゴリ名|ソートキー]] の形式で提供されるため、カテゴリ名だけを抽出し、任意のソートキーまたはその他の指定を無視する"
   ]
  }
 ],
 "metadata": {
  "kernelspec": {
   "display_name": "kaneko_env",
   "language": "python",
   "name": "python3"
  },
  "language_info": {
   "codemirror_mode": {
    "name": "ipython",
    "version": 3
   },
   "file_extension": ".py",
   "mimetype": "text/x-python",
   "name": "python",
   "nbconvert_exporter": "python",
   "pygments_lexer": "ipython3",
   "version": "3.11.5"
  }
 },
 "nbformat": 4,
 "nbformat_minor": 2
}
