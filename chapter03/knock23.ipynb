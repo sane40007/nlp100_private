{
 "cells": [
  {
   "cell_type": "code",
   "execution_count": 2,
   "metadata": {},
   "outputs": [
    {
     "name": "stdout",
     "output_type": "stream",
     "text": [
      "[('==', '国名', '=='), ('==', '歴史', '=='), ('==', '地理', '=='), ('===', '主要都市', '==='), ('===', '気候', '==='), ('==', '政治', '=='), ('===', '元首', '==='), ('===', '法', '==='), ('===', '内政', '==='), ('===', '地方行政区分', '==='), ('===', '外交・軍事', '==='), ('==', '経済', '=='), ('===', '鉱業', '==='), ('===', '農業', '==='), ('===', '貿易', '==='), ('===', '不動産', '==='), ('===', 'エネルギー政策', '==='), ('===', '通貨', '==='), ('===', '企業', '==='), ('====', '通信', '===='), ('==', '交通', '=='), ('===', '道路', '==='), ('===', '鉄道', '==='), ('===', '海運', '==='), ('===', '航空', '==='), ('==', '科学技術', '=='), ('==', '国民', '=='), ('===', '言語', '==='), ('===', '宗教', '==='), ('===', '婚姻', '==='), ('===', '移住', '==='), ('===', '教育', '==='), ('===', '医療', '==='), ('==', '文化', '=='), ('===', '食文化', '==='), ('===', '文学', '==='), ('===', '哲学', '==='), ('===', '音楽', '==='), ('====', 'ポピュラー音楽', '===='), ('===', '映画', '==='), ('===', 'コメディ', '==='), ('===', '国花', '==='), ('===', '世界遺産', '==='), ('===', '祝祭日', '==='), ('===', 'スポーツ', '==='), ('====', 'サッカー', '===='), ('====', 'クリケット', '===='), ('====', '競馬', '===='), ('====', 'モータースポーツ', '===='), ('====', '野球', '===='), ('====', ' カーリング ', '===='), ('====', ' 自転車競技 ', '===='), ('==', '脚注', '=='), ('==', '関連項目', '=='), ('==', '外部リンク', '==')]\n",
      "国名 : Level1\n",
      "歴史 : Level1\n",
      "地理 : Level1\n",
      "主要都市 : Level2\n",
      "気候 : Level2\n",
      "政治 : Level1\n",
      "元首 : Level2\n",
      "法 : Level2\n",
      "内政 : Level2\n",
      "地方行政区分 : Level2\n",
      "外交・軍事 : Level2\n",
      "経済 : Level1\n",
      "鉱業 : Level2\n",
      "農業 : Level2\n",
      "貿易 : Level2\n",
      "不動産 : Level2\n",
      "エネルギー政策 : Level2\n",
      "通貨 : Level2\n",
      "企業 : Level2\n",
      "通信 : Level3\n",
      "交通 : Level1\n",
      "道路 : Level2\n",
      "鉄道 : Level2\n",
      "海運 : Level2\n",
      "航空 : Level2\n",
      "科学技術 : Level1\n",
      "国民 : Level1\n",
      "言語 : Level2\n",
      "宗教 : Level2\n",
      "婚姻 : Level2\n",
      "移住 : Level2\n",
      "教育 : Level2\n",
      "医療 : Level2\n",
      "文化 : Level1\n",
      "食文化 : Level2\n",
      "文学 : Level2\n",
      "哲学 : Level2\n",
      "音楽 : Level2\n",
      "ポピュラー音楽 : Level3\n",
      "映画 : Level2\n",
      "コメディ : Level2\n",
      "国花 : Level2\n",
      "世界遺産 : Level2\n",
      "祝祭日 : Level2\n",
      "スポーツ : Level2\n",
      "サッカー : Level3\n",
      "クリケット : Level3\n",
      "競馬 : Level3\n",
      "モータースポーツ : Level3\n",
      "野球 : Level3\n",
      "カーリング : Level3\n",
      "自転車競技 : Level3\n",
      "脚注 : Level1\n",
      "関連項目 : Level1\n",
      "外部リンク : Level1\n"
     ]
    }
   ],
   "source": [
    "import json\n",
    "import re\n",
    "\n",
    "file_path = 'jawiki-country.json'\n",
    "\n",
    "with open(file_path, 'r') as file:\n",
    "    for line in file:\n",
    "        article = json.loads(line)\n",
    "        if article['title'] == 'イギリス':\n",
    "            text = article['text']\n",
    "            sections = re.findall(r'(==+)(.*?)(==+)', text)\n",
    "            break\n",
    "\n",
    "print(sections)\n",
    "\n",
    "for equals, name, _ in sections:\n",
    "    level = len(equals) - 1  \n",
    "    print(f'{name.strip()} : Level{level}')"
   ]
  }
 ],
 "metadata": {
  "kernelspec": {
   "display_name": "kaneko_env",
   "language": "python",
   "name": "python3"
  },
  "language_info": {
   "codemirror_mode": {
    "name": "ipython",
    "version": 3
   },
   "file_extension": ".py",
   "mimetype": "text/x-python",
   "name": "python",
   "nbconvert_exporter": "python",
   "pygments_lexer": "ipython3",
   "version": "3.11.5"
  }
 },
 "nbformat": 4,
 "nbformat_minor": 2
}
